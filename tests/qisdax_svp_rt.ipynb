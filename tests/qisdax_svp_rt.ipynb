{
 "cells": [
  {
   "cell_type": "code",
   "execution_count": 1,
   "metadata": {
    "id": "35ljryq_RIup"
   },
   "outputs": [],
   "source": [
    "json_path = r'./qisdax.json'"
   ]
  },
  {
   "cell_type": "code",
   "execution_count": 2,
   "metadata": {
    "id": "-58UlcTRSNUj"
   },
   "outputs": [],
   "source": [
    "import json\n",
    "import numpy as np\n",
    "from scipy.stats import gmean\n",
    "import pandas as pd"
   ]
  },
  {
   "cell_type": "code",
   "execution_count": 3,
   "metadata": {
    "id": "TzojAiLbSPD5"
   },
   "outputs": [],
   "source": [
    "qisdax_data = None\n",
    "with open(json_path) as fp:\n",
    "  qisdax_data = json.load(fp)"
   ]
  },
  {
   "cell_type": "code",
   "execution_count": 4,
   "metadata": {
    "colab": {
     "base_uri": "https://localhost:8080/"
    },
    "id": "93-uWKMnbu4K",
    "outputId": "333771d1-15c0-47bc-c838-241e8bd63df3",
    "scrolled": true
   },
   "outputs": [
    {
     "name": "stdout",
     "output_type": "stream",
     "text": [
      "{\n",
      "  \"bv\": {\n",
      "    \"avg_linear_rt\": 8104187841.214809,\n",
      "    \"avg_parallel_rt\": 13105718913.55952,\n",
      "    \"slowdown\": 0.6171538925725328,\n",
      "    \"depth_savings\": 0.4375,\n",
      "    \"total_cryo_parallel_rt\": 345,\n",
      "    \"total_aria_parallel_rt\": 2415\n",
      "  },\n",
      "  \"dj\": {\n",
      "    \"avg_linear_rt\": 9648928288.487888,\n",
      "    \"avg_parallel_rt\": 13917483341.895477,\n",
      "    \"slowdown\": 0.4423864418704812,\n",
      "    \"depth_savings\": 0.375,\n",
      "    \"total_cryo_parallel_rt\": 505,\n",
      "    \"total_aria_parallel_rt\": 3150\n",
      "  },\n",
      "  \"ghz\": {\n",
      "    \"avg_linear_rt\": 3063000741.224198,\n",
      "    \"avg_parallel_rt\": 6960689554.48575,\n",
      "    \"slowdown\": 1.2725066503587434,\n",
      "    \"depth_savings\": 0.2857142857142857,\n",
      "    \"total_cryo_parallel_rt\": 340,\n",
      "    \"total_aria_parallel_rt\": 2280\n",
      "  },\n",
      "  \"grover\": {\n",
      "    \"avg_linear_rt\": 17584064024.174175,\n",
      "    \"avg_parallel_rt\": 21579333854.213673,\n",
      "    \"slowdown\": 0.22720969535523133,\n",
      "    \"depth_savings\": 0.34210526315789475,\n",
      "    \"total_cryo_parallel_rt\": 1315,\n",
      "    \"total_aria_parallel_rt\": 7905\n",
      "  },\n",
      "  \"simon\": {\n",
      "    \"avg_linear_rt\": 8399383221.099795,\n",
      "    \"avg_parallel_rt\": 11988910284.785517,\n",
      "    \"slowdown\": 0.4273560295080473,\n",
      "    \"depth_savings\": 0.375,\n",
      "    \"total_cryo_parallel_rt\": 520,\n",
      "    \"total_aria_parallel_rt\": 3690\n",
      "  }\n",
      "}\n"
     ]
    }
   ],
   "source": [
    "stats = {}\n",
    "for k,v in qisdax_data.items():\n",
    "  avg_linear_rt = gmean(v['linear_rt'])\n",
    "  avg_parallel_rt = gmean(v['parallel_rt'])\n",
    "  total_cryo_parallel_rt = sum(v[\"cryo_parallel_rt\"])\n",
    "  total_aria_parallel_rt = sum(v[\"aria_parallel_rt\"])\n",
    "  slowdown = (avg_parallel_rt - avg_linear_rt) / avg_linear_rt\n",
    "  depth_savings = (v['linear'] - np.sum(v['parallel'])) / v['linear']\n",
    "  stats[k] = {'avg_linear_rt': avg_linear_rt, 'avg_parallel_rt': avg_parallel_rt, 'slowdown': slowdown, 'depth_savings': depth_savings, 'total_cryo_parallel_rt': total_cryo_parallel_rt, 'total_aria_parallel_rt': total_aria_parallel_rt}\n",
    "print(json.dumps(stats, indent=2))"
   ]
  },
  {
   "cell_type": "code",
   "execution_count": 5,
   "metadata": {
    "colab": {
     "base_uri": "https://localhost:8080/"
    },
    "id": "IGOl4dX-f48e",
    "outputId": "7403428e-0c67-420b-d002-c5b54fd7a257"
   },
   "outputs": [
    {
     "data": {
      "text/plain": [
       "{'slowdown_mean': 0.5077084684119908,\n",
       " 'slowdown_std': 0.40191547382168474,\n",
       " 'depth_savings_mean': 0.3596056121020118,\n",
       " 'depth_savings_std': 0.055335118229876294}"
      ]
     },
     "execution_count": 5,
     "metadata": {},
     "output_type": "execute_result"
    }
   ],
   "source": [
    "agg_stats = {}\n",
    "agg_slowdown = tuple(v['slowdown'] for v in stats.values())\n",
    "agg_stats['slowdown_mean'] = gmean(agg_slowdown)\n",
    "agg_stats['slowdown_std'] = np.std(agg_slowdown, ddof=1)\n",
    "agg_depth_savings = tuple(v['depth_savings'] for v in stats.values())\n",
    "agg_stats['depth_savings_mean'] = gmean(agg_depth_savings)\n",
    "agg_stats['depth_savings_std'] = np.std(agg_depth_savings, ddof=1)\n",
    "agg_stats"
   ]
  },
  {
   "cell_type": "code",
   "execution_count": 6,
   "metadata": {
    "id": "ezWpnmpKnU8D"
   },
   "outputs": [],
   "source": [
    "row_names = tuple([\"Bernstein-Vazirani algorithm\", \"Deutsch-Jozsa algorithm\", \"GHZ state\", \"Grover's algorithm\", \"Simon's algorithm\"])\n",
    "common_columns = [\"Benchmark\", \"No restructuring\", \"QisDAX\"]"
   ]
  },
  {
   "cell_type": "code",
   "execution_count": 7,
   "metadata": {
    "colab": {
     "base_uri": "https://localhost:8080/"
    },
    "id": "0pch5LD4xRmv",
    "outputId": "8211c3a1-0e67-4421-807e-a648e7b846be"
   },
   "outputs": [
    {
     "name": "stdout",
     "output_type": "stream",
     "text": [
      "\\begin{table}\n",
      "\\caption{Mean transpilation time [ms] with and without restructuring}\n",
      "\\label{tab:runtime}\n",
      "\\begin{tabular}{lllr}\n",
      "\\toprule\n",
      "Benchmark & No restructuring & QisDAX & Slowdown \\\\\n",
      "\\midrule\n",
      "Bernstein-Vazirani algorithm & 8104 & 13106 & 61.72 \\\\\n",
      "Deutsch-Jozsa algorithm & 9649 & 13917 & 44.24 \\\\\n",
      "GHZ state & 3063 & 6961 & 127.25 \\\\\n",
      "Grover's algorithm & 17584 & 21579 & 22.72 \\\\\n",
      "Simon's algorithm & 8399 & 11989 & 42.74 \\\\\n",
      "Geometric Mean &  &  & 50.77 \\\\\n",
      "\\bottomrule\n",
      "\\end{tabular}\n",
      "\\end{table}\n",
      "\n"
     ]
    }
   ],
   "source": [
    "df2 = pd.DataFrame(dict(benchmark=row_names,\n",
    "                       no_res=map(lambda x: round(x[\"avg_linear_rt\"] * pow(10, -6)), stats.values()),\n",
    "                       qisdax=map(lambda x: round(x[\"avg_parallel_rt\"] * pow(10, -6)), stats.values()),\n",
    "                       perc=map(lambda x: x[\"slowdown\"] * 100, stats.values())\n",
    "                       )\n",
    ")\n",
    "df2.columns = common_columns + [\"Slowdown\"]\n",
    "df2 = pd.concat([df2, pd.DataFrame([[\"Geometric Mean\", None, None, agg_stats[\"slowdown_mean\"] * 100]], columns=df2.columns)], ignore_index=True)\n",
    "t2 = df2.style.format(precision=2, na_rep='').hide(axis=\"index\").to_latex(hrules=True, label=\"tab:runtime\", caption=\"Mean transpilation time [ms] with and without restructuring\")\n",
    "print(t2)"
   ]
  },
  {
   "cell_type": "code",
   "execution_count": 8,
   "metadata": {
    "colab": {
     "base_uri": "https://localhost:8080/"
    },
    "id": "5trJUBNToEFH",
    "outputId": "14b498f9-6058-4d0f-93e4-3c6090c1c043"
   },
   "outputs": [
    {
     "name": "stdout",
     "output_type": "stream",
     "text": [
      "\\begin{table}\n",
      "\\caption{Runtime [μs] with and without restructuring}\n",
      "\\label{tab:rt1}\n",
      "\\begin{tabular}{lllr}\n",
      "\\toprule\n",
      "Benchmark & No restructuring & QisDAX & Speedup \\\\\n",
      "\\midrule\n",
      "Bernstein-Vazirani algorithm & 400 & 345 & 13.75 \\\\\n",
      "Deutsch-Jozsa algorithm & 585 & 505 & 13.68 \\\\\n",
      "GHZ state & 360 & 340 & 5.56 \\\\\n",
      "Grover's algorithm & 1465 & 1315 & 10.24 \\\\\n",
      "Simon's algorithm & 895 & 520 & 41.90 \\\\\n",
      "Geometric Mean &  &  & 13.50 \\\\\n",
      "\\bottomrule\n",
      "\\end{tabular}\n",
      "\\end{table}\n",
      "\n"
     ]
    }
   ],
   "source": [
    "df3 = pd.DataFrame(dict(benchmark=row_names,\n",
    "                       no_res=map(lambda x: x[\"cryo_linear_rt\"], qisdax_data.values()),\n",
    "                       qisdax=map(lambda x: x[\"total_cryo_parallel_rt\"], stats.values()),\n",
    "                       perc=map(lambda x: (qisdax_data[x][\"cryo_linear_rt\"] - stats[x][\"total_cryo_parallel_rt\"]) * 100 / qisdax_data[x][\"cryo_linear_rt\"], stats.keys())\n",
    "                       )\n",
    ")\n",
    "df3.columns = common_columns + [\"Speedup\"]\n",
    "df3 = pd.concat([df3, pd.DataFrame([[\"Geometric Mean\", None, None, gmean(df3.loc[:, 'Speedup'])]], columns=df3.columns)], ignore_index=True)\n",
    "t3 = df3.style.format(precision=2, na_rep='').hide(axis=\"index\").to_latex(hrules=True, label=\"tab:rt1\", caption=\"Runtime [μs] with and without restructuring\")\n",
    "print(t3)"
   ]
  },
  {
   "cell_type": "code",
   "execution_count": 9,
   "metadata": {
    "colab": {
     "base_uri": "https://localhost:8080/"
    },
    "id": "KrkxnLY-2Vdd",
    "outputId": "685098bb-f0fb-4bfe-f3fb-6d0362f62977"
   },
   "outputs": [
    {
     "name": "stdout",
     "output_type": "stream",
     "text": [
      "\\begin{table}\n",
      "\\caption{Runtime [μs] with and without restructuring}\n",
      "\\label{tab:rt2}\n",
      "\\begin{tabular}{lllr}\n",
      "\\toprule\n",
      "Benchmark & No restructuring & QisDAX & Speedup \\\\\n",
      "\\midrule\n",
      "Bernstein-Vazirani algorithm & 3900 & 2415 & 38.08 \\\\\n",
      "Deutsch-Jozsa algorithm & 5715 & 3150 & 44.88 \\\\\n",
      "GHZ state & 2820 & 2280 & 19.15 \\\\\n",
      "Grover's algorithm & 11955 & 7905 & 33.88 \\\\\n",
      "Simon's algorithm & 6915 & 3690 & 46.64 \\\\\n",
      "Geometric Mean &  &  & 34.89 \\\\\n",
      "\\bottomrule\n",
      "\\end{tabular}\n",
      "\\end{table}\n",
      "\n"
     ]
    }
   ],
   "source": [
    "df4 = pd.DataFrame(dict(benchmark=row_names,\n",
    "                       no_res=map(lambda x: x[\"aria_linear_rt\"], qisdax_data.values()),\n",
    "                       qisdax=map(lambda x: x[\"total_aria_parallel_rt\"], stats.values()),\n",
    "                       perc=map(lambda x: (qisdax_data[x][\"aria_linear_rt\"] - stats[x][\"total_aria_parallel_rt\"]) * 100 / qisdax_data[x][\"aria_linear_rt\"], stats.keys())\n",
    "                       )\n",
    ")\n",
    "df4.columns = common_columns + [\"Speedup\"]\n",
    "df4 = pd.concat([df4, pd.DataFrame([[\"Geometric Mean\", None, None, gmean(df4.loc[:, 'Speedup'])]], columns=df4.columns)], ignore_index=True)\n",
    "t4 = df4.style.format(precision=2, na_rep='').hide(axis=\"index\").to_latex(hrules=True, label=\"tab:rt2\", caption=\"Runtime [μs] with and without restructuring\")\n",
    "print(t4)"
   ]
  },
  {
   "cell_type": "code",
   "execution_count": 10,
   "metadata": {
    "id": "OLXfb3gAwXM5"
   },
   "outputs": [],
   "source": [
    "micro_to_milli = 1/1000\n",
    "shots = pow(10, 6)"
   ]
  },
  {
   "cell_type": "code",
   "execution_count": 11,
   "metadata": {
    "colab": {
     "base_uri": "https://localhost:8080/"
    },
    "id": "j-ZLNZT6u1zD",
    "outputId": "da1f5065-02df-4ebc-f09a-b9c4adf83745"
   },
   "outputs": [
    {
     "name": "stdout",
     "output_type": "stream",
     "text": [
      "\\begin{table}\n",
      "\\caption{Pipeline runtime [ms] with and without restructuring, $10^6$ shots, CRYO_STAQ configuration}\n",
      "\\label{tab:over1}\n",
      "\\begin{tabular}{lllr}\n",
      "\\toprule\n",
      "Benchmark & No restructuring & QisDAX & Speedup \\\\\n",
      "\\midrule\n",
      "Bernstein-Vazirani algorithm & 408104 & 358106 & 12.25 \\\\\n",
      "Deutsch-Jozsa algorithm & 594649 & 518917 & 12.74 \\\\\n",
      "GHZ state & 363063 & 346961 & 4.44 \\\\\n",
      "Grover's algorithm & 1482584 & 1336579 & 9.85 \\\\\n",
      "Simon's algorithm & 903399 & 531989 & 41.11 \\\\\n",
      "Geometric Mean &  &  & 12.29 \\\\\n",
      "\\bottomrule\n",
      "\\end{tabular}\n",
      "\\end{table}\n",
      "\n"
     ]
    }
   ],
   "source": [
    "df5 = pd.DataFrame(dict(benchmark=row_names,\n",
    "                       no_res=map(lambda x: round(df2.iloc[x][common_columns[1]] + (micro_to_milli * shots * df3.iloc[x][common_columns[1]])), range(len(row_names))),\n",
    "                       qisdax=map(lambda x: round(df2.iloc[x][common_columns[2]] + (micro_to_milli * shots * df3.iloc[x][common_columns[2]])), range(len(row_names))),\n",
    "                       perc=map(lambda x: ((df2.iloc[x][common_columns[1]] + (micro_to_milli * shots * df3.iloc[x][common_columns[1]])) - (df2.iloc[x][common_columns[2]] + (micro_to_milli * shots * df3.iloc[x][common_columns[2]]))) * 100 / (df2.iloc[x][common_columns[1]] + (micro_to_milli * shots * df3.iloc[x][common_columns[1]])), range(len(row_names)))\n",
    "                       )\n",
    ")\n",
    "df5.columns = common_columns + [\"Speedup\"]\n",
    "df5 = pd.concat([df5, pd.DataFrame([[\"Geometric Mean\", None, None, gmean(df5.loc[:, 'Speedup'])]], columns=df5.columns)], ignore_index=True)\n",
    "t5 = df5.style.format(precision=2, na_rep='').hide(axis=\"index\").to_latex(hrules=True, label=\"tab:over1\", caption=\"Pipeline runtime [ms] with and without restructuring, $10^6$ shots, CRYO_STAQ configuration\")\n",
    "print(t5)"
   ]
  },
  {
   "cell_type": "code",
   "execution_count": 12,
   "metadata": {
    "colab": {
     "base_uri": "https://localhost:8080/"
    },
    "id": "76vFV7-xzpzm",
    "outputId": "70b33872-e86f-4bf2-c7b3-8fbf593dc131"
   },
   "outputs": [
    {
     "name": "stdout",
     "output_type": "stream",
     "text": [
      "\\begin{table}\n",
      "\\caption{Pipeline runtime [ms] with and without restructuring, $10^6$ shots, IonQ Aria configuration}\n",
      "\\label{tab:over2}\n",
      "\\begin{tabular}{lllr}\n",
      "\\toprule\n",
      "Benchmark & No restructuring & QisDAX & Speedup \\\\\n",
      "\\midrule\n",
      "Bernstein-Vazirani algorithm & 3908104 & 2428106 & 37.87 \\\\\n",
      "Deutsch-Jozsa algorithm & 5724649 & 3163917 & 44.73 \\\\\n",
      "GHZ state & 2823063 & 2286961 & 18.99 \\\\\n",
      "Grover's algorithm & 11972584 & 7926579 & 33.79 \\\\\n",
      "Simon's algorithm & 6923399 & 3701989 & 46.53 \\\\\n",
      "Geometric Mean &  &  & 34.74 \\\\\n",
      "\\bottomrule\n",
      "\\end{tabular}\n",
      "\\end{table}\n",
      "\n"
     ]
    }
   ],
   "source": [
    "df6 = pd.DataFrame(dict(benchmark=row_names,\n",
    "                       no_res=map(lambda x: round(df2.iloc[x][common_columns[1]] + (micro_to_milli * shots * df4.iloc[x][common_columns[1]])), range(len(row_names))),\n",
    "                       qisdax=map(lambda x: round(df2.iloc[x][common_columns[2]] + (micro_to_milli * shots * df4.iloc[x][common_columns[2]])), range(len(row_names))),\n",
    "                       perc=map(lambda x: ((df2.iloc[x][common_columns[1]] + (micro_to_milli * shots * df4.iloc[x][common_columns[1]])) - (df2.iloc[x][common_columns[2]] + (micro_to_milli * shots * df4.iloc[x][common_columns[2]]))) * 100 / (df2.iloc[x][common_columns[1]] + (micro_to_milli * shots * df4.iloc[x][common_columns[1]])), range(len(row_names)))\n",
    "                       )\n",
    ")\n",
    "df6.columns = common_columns + [\"Speedup\"]\n",
    "df6 = pd.concat([df6, pd.DataFrame([[\"Geometric Mean\", None, None, gmean(df6.loc[:, 'Speedup'])]], columns=df6.columns)], ignore_index=True)\n",
    "t6 = df6.style.format(precision=2, na_rep='').hide(axis=\"index\").to_latex(hrules=True, label=\"tab:over2\", caption=\"Pipeline runtime [ms] with and without restructuring, $10^6$ shots, IonQ Aria configuration\")\n",
    "print(t6)"
   ]
  }
 ],
 "metadata": {
  "colab": {
   "provenance": []
  },
  "kernelspec": {
   "display_name": "Python 3 (ipykernel)",
   "language": "python",
   "name": "python3"
  },
  "language_info": {
   "codemirror_mode": {
    "name": "ipython",
    "version": 3
   },
   "file_extension": ".py",
   "mimetype": "text/x-python",
   "name": "python",
   "nbconvert_exporter": "python",
   "pygments_lexer": "ipython3",
   "version": "3.9.9"
  }
 },
 "nbformat": 4,
 "nbformat_minor": 1
}
